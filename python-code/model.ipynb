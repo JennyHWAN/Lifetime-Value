{
 "cells": [
  {
   "cell_type": "code",
   "execution_count": 35,
   "id": "d47e3bb1",
   "metadata": {},
   "outputs": [],
   "source": [
    "import pandas as pd\n",
    "from sklearn.model_selection import train_test_split\n",
    "from sklearn.preprocessing import StandardScaler\n",
    "from sklearn.linear_model import LogisticRegression\n",
    "from sklearn.model_selection import cross_val_score\n",
    "import numpy as np\n",
    "from sklearn.neighbors import KNeighborsClassifier\n",
    "from sklearn.svm import SVC\n",
    "import time\n",
    "from sklearn.tree import DecisionTreeClassifier\n",
    "from sklearn.ensemble import RandomForestClassifier\n",
    "from sklearn.naive_bayes import GaussianNB\n",
    "from sklearn.metrics import accuracy_score\n",
    "import matplotlib.pyplot as plt\n",
    "from sklearn.inspection import permutation_importance\n",
    "from sklearn.feature_selection import SelectKBest\n",
    "from sklearn.feature_selection import f_classif\n",
    "from sklearn.feature_selection import f_regression\n",
    "import dataframe_image as dfi\n",
    "from sklearn.linear_model import LinearRegression"
   ]
  },
  {
   "cell_type": "code",
   "execution_count": 2,
   "id": "8750e2bf",
   "metadata": {},
   "outputs": [
    {
     "name": "stdout",
     "output_type": "stream",
     "text": [
      "<class 'pandas.core.frame.DataFrame'>\n",
      "RangeIndex: 193502 entries, 0 to 193501\n",
      "Data columns (total 7 columns):\n",
      " #   Column               Non-Null Count   Dtype  \n",
      "---  ------               --------------   -----  \n",
      " 0   Unnamed: 0           193502 non-null  int64  \n",
      " 1   ride_distance        193502 non-null  int64  \n",
      " 2   ride_duration        193502 non-null  int64  \n",
      " 3   ride_prime_time      193502 non-null  int64  \n",
      " 4   total                193502 non-null  float64\n",
      " 5   leave_month          193502 non-null  int64  \n",
      " 6   driver_onboard_date  193502 non-null  float64\n",
      "dtypes: float64(2), int64(5)\n",
      "memory usage: 10.3 MB\n"
     ]
    }
   ],
   "source": [
    "combined = pd.read_csv('/Users/jennyhuang/Documents/jobs/DBC-AI-Launch/project3-LTV/combined.csv')\n",
    "combined.info()"
   ]
  },
  {
   "cell_type": "code",
   "execution_count": 3,
   "id": "829c2224",
   "metadata": {},
   "outputs": [
    {
     "data": {
      "text/html": [
       "<div>\n",
       "<style scoped>\n",
       "    .dataframe tbody tr th:only-of-type {\n",
       "        vertical-align: middle;\n",
       "    }\n",
       "\n",
       "    .dataframe tbody tr th {\n",
       "        vertical-align: top;\n",
       "    }\n",
       "\n",
       "    .dataframe thead th {\n",
       "        text-align: right;\n",
       "    }\n",
       "</style>\n",
       "<table border=\"1\" class=\"dataframe\">\n",
       "  <thead>\n",
       "    <tr style=\"text-align: right;\">\n",
       "      <th></th>\n",
       "      <th>Unnamed: 0</th>\n",
       "      <th>ride_distance</th>\n",
       "      <th>ride_duration</th>\n",
       "      <th>ride_prime_time</th>\n",
       "      <th>total</th>\n",
       "      <th>leave_month</th>\n",
       "      <th>driver_onboard_date</th>\n",
       "    </tr>\n",
       "  </thead>\n",
       "  <tbody>\n",
       "    <tr>\n",
       "      <th>0</th>\n",
       "      <td>0</td>\n",
       "      <td>1811</td>\n",
       "      <td>327</td>\n",
       "      <td>50</td>\n",
       "      <td>1.872929</td>\n",
       "      <td>3</td>\n",
       "      <td>1.0</td>\n",
       "    </tr>\n",
       "    <tr>\n",
       "      <th>1</th>\n",
       "      <td>1</td>\n",
       "      <td>3362</td>\n",
       "      <td>809</td>\n",
       "      <td>0</td>\n",
       "      <td>1.823748</td>\n",
       "      <td>3</td>\n",
       "      <td>1.0</td>\n",
       "    </tr>\n",
       "    <tr>\n",
       "      <th>2</th>\n",
       "      <td>2</td>\n",
       "      <td>3282</td>\n",
       "      <td>572</td>\n",
       "      <td>0</td>\n",
       "      <td>1.638515</td>\n",
       "      <td>3</td>\n",
       "      <td>1.0</td>\n",
       "    </tr>\n",
       "    <tr>\n",
       "      <th>3</th>\n",
       "      <td>3</td>\n",
       "      <td>65283</td>\n",
       "      <td>3338</td>\n",
       "      <td>25</td>\n",
       "      <td>15.659760</td>\n",
       "      <td>3</td>\n",
       "      <td>1.0</td>\n",
       "    </tr>\n",
       "    <tr>\n",
       "      <th>4</th>\n",
       "      <td>4</td>\n",
       "      <td>4115</td>\n",
       "      <td>823</td>\n",
       "      <td>100</td>\n",
       "      <td>3.883260</td>\n",
       "      <td>3</td>\n",
       "      <td>1.0</td>\n",
       "    </tr>\n",
       "  </tbody>\n",
       "</table>\n",
       "</div>"
      ],
      "text/plain": [
       "   Unnamed: 0  ride_distance  ride_duration  ride_prime_time      total  \\\n",
       "0           0           1811            327               50   1.872929   \n",
       "1           1           3362            809                0   1.823748   \n",
       "2           2           3282            572                0   1.638515   \n",
       "3           3          65283           3338               25  15.659760   \n",
       "4           4           4115            823              100   3.883260   \n",
       "\n",
       "   leave_month  driver_onboard_date  \n",
       "0            3                  1.0  \n",
       "1            3                  1.0  \n",
       "2            3                  1.0  \n",
       "3            3                  1.0  \n",
       "4            3                  1.0  "
      ]
     },
     "execution_count": 3,
     "metadata": {},
     "output_type": "execute_result"
    }
   ],
   "source": [
    "combined.head()"
   ]
  },
  {
   "cell_type": "code",
   "execution_count": 4,
   "id": "1d9802a3",
   "metadata": {},
   "outputs": [
    {
     "data": {
      "text/html": [
       "<div>\n",
       "<style scoped>\n",
       "    .dataframe tbody tr th:only-of-type {\n",
       "        vertical-align: middle;\n",
       "    }\n",
       "\n",
       "    .dataframe tbody tr th {\n",
       "        vertical-align: top;\n",
       "    }\n",
       "\n",
       "    .dataframe thead th {\n",
       "        text-align: right;\n",
       "    }\n",
       "</style>\n",
       "<table border=\"1\" class=\"dataframe\">\n",
       "  <thead>\n",
       "    <tr style=\"text-align: right;\">\n",
       "      <th></th>\n",
       "      <th>ride_distance</th>\n",
       "      <th>ride_duration</th>\n",
       "      <th>ride_prime_time</th>\n",
       "      <th>total</th>\n",
       "      <th>leave_month</th>\n",
       "      <th>driver_onboard_date</th>\n",
       "    </tr>\n",
       "  </thead>\n",
       "  <tbody>\n",
       "    <tr>\n",
       "      <th>0</th>\n",
       "      <td>1811</td>\n",
       "      <td>327</td>\n",
       "      <td>50</td>\n",
       "      <td>1.872929</td>\n",
       "      <td>3</td>\n",
       "      <td>1.0</td>\n",
       "    </tr>\n",
       "    <tr>\n",
       "      <th>1</th>\n",
       "      <td>3362</td>\n",
       "      <td>809</td>\n",
       "      <td>0</td>\n",
       "      <td>1.823748</td>\n",
       "      <td>3</td>\n",
       "      <td>1.0</td>\n",
       "    </tr>\n",
       "    <tr>\n",
       "      <th>2</th>\n",
       "      <td>3282</td>\n",
       "      <td>572</td>\n",
       "      <td>0</td>\n",
       "      <td>1.638515</td>\n",
       "      <td>3</td>\n",
       "      <td>1.0</td>\n",
       "    </tr>\n",
       "    <tr>\n",
       "      <th>3</th>\n",
       "      <td>65283</td>\n",
       "      <td>3338</td>\n",
       "      <td>25</td>\n",
       "      <td>15.659760</td>\n",
       "      <td>3</td>\n",
       "      <td>1.0</td>\n",
       "    </tr>\n",
       "    <tr>\n",
       "      <th>4</th>\n",
       "      <td>4115</td>\n",
       "      <td>823</td>\n",
       "      <td>100</td>\n",
       "      <td>3.883260</td>\n",
       "      <td>3</td>\n",
       "      <td>1.0</td>\n",
       "    </tr>\n",
       "  </tbody>\n",
       "</table>\n",
       "</div>"
      ],
      "text/plain": [
       "   ride_distance  ride_duration  ride_prime_time      total  leave_month  \\\n",
       "0           1811            327               50   1.872929            3   \n",
       "1           3362            809                0   1.823748            3   \n",
       "2           3282            572                0   1.638515            3   \n",
       "3          65283           3338               25  15.659760            3   \n",
       "4           4115            823              100   3.883260            3   \n",
       "\n",
       "   driver_onboard_date  \n",
       "0                  1.0  \n",
       "1                  1.0  \n",
       "2                  1.0  \n",
       "3                  1.0  \n",
       "4                  1.0  "
      ]
     },
     "execution_count": 4,
     "metadata": {},
     "output_type": "execute_result"
    }
   ],
   "source": [
    "combined.drop('Unnamed: 0', axis=1, inplace=True)\n",
    "combined.head()"
   ]
  },
  {
   "cell_type": "code",
   "execution_count": 5,
   "id": "54a1fe13",
   "metadata": {},
   "outputs": [
    {
     "data": {
      "text/plain": [
       "array([3, 2, 1, 0])"
      ]
     },
     "execution_count": 5,
     "metadata": {},
     "output_type": "execute_result"
    }
   ],
   "source": [
    "combined['leave_month'].unique()"
   ]
  },
  {
   "cell_type": "code",
   "execution_count": 11,
   "id": "d6296b3a",
   "metadata": {},
   "outputs": [],
   "source": [
    "# total as output var, find out the factor that affect lifetime value\n",
    "x_ltv = combined[['ride_distance', 'ride_duration', 'ride_prime_time', 'leave_month', 'driver_onboard_date']]\n",
    "y_ltv = combined['total']"
   ]
  },
  {
   "cell_type": "code",
   "execution_count": 12,
   "id": "6f33c129",
   "metadata": {},
   "outputs": [],
   "source": [
    "x_ltv_train, x_ltv_test, y_ltv_train, y_ltv_test = train_test_split(x_ltv, y_ltv, test_size=0.2, shuffle=True, random_state=42)"
   ]
  },
  {
   "cell_type": "code",
   "execution_count": 13,
   "id": "39251338",
   "metadata": {},
   "outputs": [
    {
     "name": "stdout",
     "output_type": "stream",
     "text": [
      "(154801,)\n",
      "(38701,)\n",
      "(154801, 5)\n",
      "(38701, 5)\n"
     ]
    }
   ],
   "source": [
    "y_ltv_train = y_ltv_train.values.ravel() # Return a contiguous flattened array\n",
    "y_ltv_test = y_ltv_test.values.ravel()\n",
    "print(y_ltv_train.shape)\n",
    "print(y_ltv_test.shape)\n",
    "print(x_ltv_train.shape)\n",
    "print(x_ltv_test.shape)"
   ]
  },
  {
   "cell_type": "code",
   "execution_count": 16,
   "id": "4cca4b68",
   "metadata": {},
   "outputs": [
    {
     "data": {
      "text/html": [
       "<div>\n",
       "<style scoped>\n",
       "    .dataframe tbody tr th:only-of-type {\n",
       "        vertical-align: middle;\n",
       "    }\n",
       "\n",
       "    .dataframe tbody tr th {\n",
       "        vertical-align: top;\n",
       "    }\n",
       "\n",
       "    .dataframe thead th {\n",
       "        text-align: right;\n",
       "    }\n",
       "</style>\n",
       "<table border=\"1\" class=\"dataframe\">\n",
       "  <thead>\n",
       "    <tr style=\"text-align: right;\">\n",
       "      <th></th>\n",
       "      <th>features</th>\n",
       "      <th>score</th>\n",
       "    </tr>\n",
       "  </thead>\n",
       "  <tbody>\n",
       "    <tr>\n",
       "      <th>0</th>\n",
       "      <td>ride_distance</td>\n",
       "      <td>665446.682397</td>\n",
       "    </tr>\n",
       "    <tr>\n",
       "      <th>1</th>\n",
       "      <td>ride_duration</td>\n",
       "      <td>379903.181438</td>\n",
       "    </tr>\n",
       "    <tr>\n",
       "      <th>2</th>\n",
       "      <td>ride_prime_time</td>\n",
       "      <td>23446.939912</td>\n",
       "    </tr>\n",
       "    <tr>\n",
       "      <th>3</th>\n",
       "      <td>leave_month</td>\n",
       "      <td>44.409173</td>\n",
       "    </tr>\n",
       "    <tr>\n",
       "      <th>4</th>\n",
       "      <td>driver_onboard_date</td>\n",
       "      <td>46.512304</td>\n",
       "    </tr>\n",
       "  </tbody>\n",
       "</table>\n",
       "</div>"
      ],
      "text/plain": [
       "              features          score\n",
       "0        ride_distance  665446.682397\n",
       "1        ride_duration  379903.181438\n",
       "2      ride_prime_time   23446.939912\n",
       "3          leave_month      44.409173\n",
       "4  driver_onboard_date      46.512304"
      ]
     },
     "execution_count": 16,
     "metadata": {},
     "output_type": "execute_result"
    }
   ],
   "source": [
    "# feature selection using regression method\n",
    "fs_ltv = SelectKBest(score_func=f_regression, k='all')\n",
    "x_ltv_selected = fs_ltv.fit_transform(x_ltv, y_ltv)\n",
    "scores_ltv = fs_ltv.scores_\n",
    "features_ltv = x_ltv.columns\n",
    "score_df_ltv = pd.DataFrame({'features': features_ltv, 'score': scores_ltv})\n",
    "score_df_ltv"
   ]
  },
  {
   "cell_type": "code",
   "execution_count": 20,
   "id": "5c7a96e2",
   "metadata": {},
   "outputs": [],
   "source": [
    "# dfi.export(score_df_ltv, '/Users/jennyhuang/Documents/jobs/DBC-AI-Launch/project3-LTV/feature_ltv.png')"
   ]
  },
  {
   "cell_type": "code",
   "execution_count": null,
   "id": "142bee86",
   "metadata": {},
   "outputs": [],
   "source": []
  },
  {
   "cell_type": "code",
   "execution_count": 24,
   "id": "a1e159cf",
   "metadata": {},
   "outputs": [],
   "source": [
    "# leave_month as output var, find out the factor that lead to churn rate\n",
    "x = combined[['ride_distance', 'ride_duration', 'ride_prime_time', 'total', 'driver_onboard_date']]\n",
    "y = combined['leave_month']"
   ]
  },
  {
   "cell_type": "code",
   "execution_count": 25,
   "id": "33c26808",
   "metadata": {},
   "outputs": [],
   "source": [
    "x_train, x_test, y_train, y_test = train_test_split(x, y, test_size=0.2, shuffle=True, random_state=42)\n",
    "# Data was splitted as 80% train data and 20% test data."
   ]
  },
  {
   "cell_type": "code",
   "execution_count": 26,
   "id": "b2df1217",
   "metadata": {},
   "outputs": [
    {
     "name": "stdout",
     "output_type": "stream",
     "text": [
      "(154801,)\n",
      "(38701,)\n",
      "(154801, 5)\n",
      "(38701, 5)\n"
     ]
    }
   ],
   "source": [
    "# y_train = y_train.values.reshape(-1, 1)\n",
    "# y_test = y_test.values.reshape(-1, 1)\n",
    "y_train = y_train.values.ravel() # Return a contiguous flattened array\n",
    "y_test = y_test.values.ravel()\n",
    "print(y_train.shape)\n",
    "print(y_test.shape)\n",
    "print(x_train.shape)\n",
    "print(x_test.shape)"
   ]
  },
  {
   "cell_type": "code",
   "execution_count": 27,
   "id": "5202d949",
   "metadata": {},
   "outputs": [
    {
     "data": {
      "text/html": [
       "<div>\n",
       "<style scoped>\n",
       "    .dataframe tbody tr th:only-of-type {\n",
       "        vertical-align: middle;\n",
       "    }\n",
       "\n",
       "    .dataframe tbody tr th {\n",
       "        vertical-align: top;\n",
       "    }\n",
       "\n",
       "    .dataframe thead th {\n",
       "        text-align: right;\n",
       "    }\n",
       "</style>\n",
       "<table border=\"1\" class=\"dataframe\">\n",
       "  <thead>\n",
       "    <tr style=\"text-align: right;\">\n",
       "      <th></th>\n",
       "      <th>features</th>\n",
       "      <th>score</th>\n",
       "    </tr>\n",
       "  </thead>\n",
       "  <tbody>\n",
       "    <tr>\n",
       "      <th>0</th>\n",
       "      <td>ride_distance</td>\n",
       "      <td>11.801586</td>\n",
       "    </tr>\n",
       "    <tr>\n",
       "      <th>1</th>\n",
       "      <td>ride_duration</td>\n",
       "      <td>7.992708</td>\n",
       "    </tr>\n",
       "    <tr>\n",
       "      <th>2</th>\n",
       "      <td>ride_prime_time</td>\n",
       "      <td>19.915761</td>\n",
       "    </tr>\n",
       "    <tr>\n",
       "      <th>3</th>\n",
       "      <td>total</td>\n",
       "      <td>17.996697</td>\n",
       "    </tr>\n",
       "    <tr>\n",
       "      <th>4</th>\n",
       "      <td>driver_onboard_date</td>\n",
       "      <td>1247.879805</td>\n",
       "    </tr>\n",
       "  </tbody>\n",
       "</table>\n",
       "</div>"
      ],
      "text/plain": [
       "              features        score\n",
       "0        ride_distance    11.801586\n",
       "1        ride_duration     7.992708\n",
       "2      ride_prime_time    19.915761\n",
       "3                total    17.996697\n",
       "4  driver_onboard_date  1247.879805"
      ]
     },
     "execution_count": 27,
     "metadata": {},
     "output_type": "execute_result"
    }
   ],
   "source": [
    "# feature selection\n",
    "fs = SelectKBest(score_func=f_classif, k='all')\n",
    "x_selected = fs.fit_transform(x, y)\n",
    "scores = fs.scores_\n",
    "features = x.columns\n",
    "score_df = pd.DataFrame({'features': features, 'score': scores})\n",
    "score_df"
   ]
  },
  {
   "cell_type": "code",
   "execution_count": 28,
   "id": "f1fee5cc",
   "metadata": {},
   "outputs": [
    {
     "data": {
      "text/html": [
       "<style type=\"text/css\">\n",
       "#T_0d884_row0_col0, #T_0d884_row1_col1, #T_0d884_row2_col2, #T_0d884_row3_col3, #T_0d884_row4_col4, #T_0d884_row5_col5 {\n",
       "  background-color: #b40426;\n",
       "  color: #f1f1f1;\n",
       "}\n",
       "#T_0d884_row0_col1 {\n",
       "  background-color: #f08a6c;\n",
       "  color: #f1f1f1;\n",
       "}\n",
       "#T_0d884_row0_col2, #T_0d884_row0_col4, #T_0d884_row0_col5, #T_0d884_row1_col4, #T_0d884_row1_col5, #T_0d884_row2_col0, #T_0d884_row4_col1, #T_0d884_row4_col3, #T_0d884_row5_col1, #T_0d884_row5_col3 {\n",
       "  background-color: #3b4cc0;\n",
       "  color: #f1f1f1;\n",
       "}\n",
       "#T_0d884_row0_col3 {\n",
       "  background-color: #dd5f4b;\n",
       "  color: #f1f1f1;\n",
       "}\n",
       "#T_0d884_row1_col0 {\n",
       "  background-color: #ee8468;\n",
       "  color: #f1f1f1;\n",
       "}\n",
       "#T_0d884_row1_col2, #T_0d884_row4_col2 {\n",
       "  background-color: #4c66d6;\n",
       "  color: #f1f1f1;\n",
       "}\n",
       "#T_0d884_row1_col3 {\n",
       "  background-color: #ec7f63;\n",
       "  color: #f1f1f1;\n",
       "}\n",
       "#T_0d884_row2_col1, #T_0d884_row3_col4 {\n",
       "  background-color: #3c4ec2;\n",
       "  color: #f1f1f1;\n",
       "}\n",
       "#T_0d884_row2_col3 {\n",
       "  background-color: #a5c3fe;\n",
       "  color: #000000;\n",
       "}\n",
       "#T_0d884_row2_col4, #T_0d884_row3_col5 {\n",
       "  background-color: #3d50c3;\n",
       "  color: #f1f1f1;\n",
       "}\n",
       "#T_0d884_row2_col5 {\n",
       "  background-color: #4257c9;\n",
       "  color: #f1f1f1;\n",
       "}\n",
       "#T_0d884_row3_col0 {\n",
       "  background-color: #da5a49;\n",
       "  color: #f1f1f1;\n",
       "}\n",
       "#T_0d884_row3_col1 {\n",
       "  background-color: #eb7d62;\n",
       "  color: #f1f1f1;\n",
       "}\n",
       "#T_0d884_row3_col2 {\n",
       "  background-color: #b3cdfb;\n",
       "  color: #000000;\n",
       "}\n",
       "#T_0d884_row4_col0 {\n",
       "  background-color: #4b64d5;\n",
       "  color: #f1f1f1;\n",
       "}\n",
       "#T_0d884_row4_col5 {\n",
       "  background-color: #6180e9;\n",
       "  color: #f1f1f1;\n",
       "}\n",
       "#T_0d884_row5_col0 {\n",
       "  background-color: #4961d2;\n",
       "  color: #f1f1f1;\n",
       "}\n",
       "#T_0d884_row5_col2 {\n",
       "  background-color: #516ddb;\n",
       "  color: #f1f1f1;\n",
       "}\n",
       "#T_0d884_row5_col4 {\n",
       "  background-color: #5f7fe8;\n",
       "  color: #f1f1f1;\n",
       "}\n",
       "</style>\n",
       "<table id=\"T_0d884\">\n",
       "  <thead>\n",
       "    <tr>\n",
       "      <th class=\"blank level0\" >&nbsp;</th>\n",
       "      <th id=\"T_0d884_level0_col0\" class=\"col_heading level0 col0\" >ride_distance</th>\n",
       "      <th id=\"T_0d884_level0_col1\" class=\"col_heading level0 col1\" >ride_duration</th>\n",
       "      <th id=\"T_0d884_level0_col2\" class=\"col_heading level0 col2\" >ride_prime_time</th>\n",
       "      <th id=\"T_0d884_level0_col3\" class=\"col_heading level0 col3\" >total</th>\n",
       "      <th id=\"T_0d884_level0_col4\" class=\"col_heading level0 col4\" >leave_month</th>\n",
       "      <th id=\"T_0d884_level0_col5\" class=\"col_heading level0 col5\" >driver_onboard_date</th>\n",
       "    </tr>\n",
       "  </thead>\n",
       "  <tbody>\n",
       "    <tr>\n",
       "      <th id=\"T_0d884_level0_row0\" class=\"row_heading level0 row0\" >ride_distance</th>\n",
       "      <td id=\"T_0d884_row0_col0\" class=\"data row0 col0\" >1.00</td>\n",
       "      <td id=\"T_0d884_row0_col1\" class=\"data row0 col1\" >0.79</td>\n",
       "      <td id=\"T_0d884_row0_col2\" class=\"data row0 col2\" >-0.05</td>\n",
       "      <td id=\"T_0d884_row0_col3\" class=\"data row0 col3\" >0.88</td>\n",
       "      <td id=\"T_0d884_row0_col4\" class=\"data row0 col4\" >0.01</td>\n",
       "      <td id=\"T_0d884_row0_col5\" class=\"data row0 col5\" >0.00</td>\n",
       "    </tr>\n",
       "    <tr>\n",
       "      <th id=\"T_0d884_level0_row1\" class=\"row_heading level0 row1\" >ride_duration</th>\n",
       "      <td id=\"T_0d884_row1_col0\" class=\"data row1 col0\" >0.79</td>\n",
       "      <td id=\"T_0d884_row1_col1\" class=\"data row1 col1\" >1.00</td>\n",
       "      <td id=\"T_0d884_row1_col2\" class=\"data row1 col2\" >0.01</td>\n",
       "      <td id=\"T_0d884_row1_col3\" class=\"data row1 col3\" >0.81</td>\n",
       "      <td id=\"T_0d884_row1_col4\" class=\"data row1 col4\" >0.01</td>\n",
       "      <td id=\"T_0d884_row1_col5\" class=\"data row1 col5\" >0.01</td>\n",
       "    </tr>\n",
       "    <tr>\n",
       "      <th id=\"T_0d884_level0_row2\" class=\"row_heading level0 row2\" >ride_prime_time</th>\n",
       "      <td id=\"T_0d884_row2_col0\" class=\"data row2 col0\" >-0.05</td>\n",
       "      <td id=\"T_0d884_row2_col1\" class=\"data row2 col1\" >0.01</td>\n",
       "      <td id=\"T_0d884_row2_col2\" class=\"data row2 col2\" >1.00</td>\n",
       "      <td id=\"T_0d884_row2_col3\" class=\"data row2 col3\" >0.33</td>\n",
       "      <td id=\"T_0d884_row2_col4\" class=\"data row2 col4\" >0.02</td>\n",
       "      <td id=\"T_0d884_row2_col5\" class=\"data row2 col5\" >0.03</td>\n",
       "    </tr>\n",
       "    <tr>\n",
       "      <th id=\"T_0d884_level0_row3\" class=\"row_heading level0 row3\" >total</th>\n",
       "      <td id=\"T_0d884_row3_col0\" class=\"data row3 col0\" >0.88</td>\n",
       "      <td id=\"T_0d884_row3_col1\" class=\"data row3 col1\" >0.81</td>\n",
       "      <td id=\"T_0d884_row3_col2\" class=\"data row3 col2\" >0.33</td>\n",
       "      <td id=\"T_0d884_row3_col3\" class=\"data row3 col3\" >1.00</td>\n",
       "      <td id=\"T_0d884_row3_col4\" class=\"data row3 col4\" >0.02</td>\n",
       "      <td id=\"T_0d884_row3_col5\" class=\"data row3 col5\" >0.02</td>\n",
       "    </tr>\n",
       "    <tr>\n",
       "      <th id=\"T_0d884_level0_row4\" class=\"row_heading level0 row4\" >leave_month</th>\n",
       "      <td id=\"T_0d884_row4_col0\" class=\"data row4 col0\" >0.01</td>\n",
       "      <td id=\"T_0d884_row4_col1\" class=\"data row4 col1\" >0.01</td>\n",
       "      <td id=\"T_0d884_row4_col2\" class=\"data row4 col2\" >0.02</td>\n",
       "      <td id=\"T_0d884_row4_col3\" class=\"data row4 col3\" >0.02</td>\n",
       "      <td id=\"T_0d884_row4_col4\" class=\"data row4 col4\" >1.00</td>\n",
       "      <td id=\"T_0d884_row4_col5\" class=\"data row4 col5\" >0.13</td>\n",
       "    </tr>\n",
       "    <tr>\n",
       "      <th id=\"T_0d884_level0_row5\" class=\"row_heading level0 row5\" >driver_onboard_date</th>\n",
       "      <td id=\"T_0d884_row5_col0\" class=\"data row5 col0\" >0.00</td>\n",
       "      <td id=\"T_0d884_row5_col1\" class=\"data row5 col1\" >0.01</td>\n",
       "      <td id=\"T_0d884_row5_col2\" class=\"data row5 col2\" >0.03</td>\n",
       "      <td id=\"T_0d884_row5_col3\" class=\"data row5 col3\" >0.02</td>\n",
       "      <td id=\"T_0d884_row5_col4\" class=\"data row5 col4\" >0.13</td>\n",
       "      <td id=\"T_0d884_row5_col5\" class=\"data row5 col5\" >1.00</td>\n",
       "    </tr>\n",
       "  </tbody>\n",
       "</table>\n"
      ],
      "text/plain": [
       "<pandas.io.formats.style.Styler at 0x284682a00>"
      ]
     },
     "execution_count": 28,
     "metadata": {},
     "output_type": "execute_result"
    }
   ],
   "source": [
    "cor = combined.corr(method='pearson')\n",
    "cormat = cor.style.background_gradient(cmap='coolwarm').format(precision=2)\n",
    "cormat"
   ]
  },
  {
   "cell_type": "code",
   "execution_count": 23,
   "id": "89852e12",
   "metadata": {},
   "outputs": [],
   "source": [
    "# dfi.export(cormat, '/Users/jennyhuang/Documents/jobs/DBC-AI-Launch/project3-LTV/cormat_ltv.png')"
   ]
  },
  {
   "cell_type": "markdown",
   "id": "d03a425c",
   "metadata": {},
   "source": [
    "## model for lifetime value"
   ]
  },
  {
   "cell_type": "code",
   "execution_count": 37,
   "id": "86b38814",
   "metadata": {},
   "outputs": [],
   "source": [
    "# try feature scaling\n",
    "sc = StandardScaler()\n",
    "x_ltv_train = sc.fit_transform(x_ltv_train)\n",
    "x_ltv_test = sc.fit_transform(x_ltv_test)"
   ]
  },
  {
   "cell_type": "code",
   "execution_count": 38,
   "id": "677b47ab",
   "metadata": {},
   "outputs": [],
   "source": [
    "lr = LinearRegression()"
   ]
  },
  {
   "cell_type": "code",
   "execution_count": 39,
   "id": "30e051c4",
   "metadata": {},
   "outputs": [
    {
     "data": {
      "text/plain": [
       "array([ 1.37596984e+00,  5.31051156e-01,  7.24422009e-01, -1.26287352e-03,\n",
       "        1.08649488e-03])"
      ]
     },
     "execution_count": 39,
     "metadata": {},
     "output_type": "execute_result"
    }
   ],
   "source": [
    "lr.fit(x_ltv_train, y_ltv_train)\n",
    "importance = lr.coef_\n",
    "importance"
   ]
  },
  {
   "cell_type": "code",
   "execution_count": 44,
   "id": "5c7ebf9e",
   "metadata": {},
   "outputs": [
    {
     "data": {
      "text/html": [
       "<div>\n",
       "<style scoped>\n",
       "    .dataframe tbody tr th:only-of-type {\n",
       "        vertical-align: middle;\n",
       "    }\n",
       "\n",
       "    .dataframe tbody tr th {\n",
       "        vertical-align: top;\n",
       "    }\n",
       "\n",
       "    .dataframe thead th {\n",
       "        text-align: right;\n",
       "    }\n",
       "</style>\n",
       "<table border=\"1\" class=\"dataframe\">\n",
       "  <thead>\n",
       "    <tr style=\"text-align: right;\">\n",
       "      <th></th>\n",
       "      <th>variables</th>\n",
       "      <th>importance</th>\n",
       "    </tr>\n",
       "  </thead>\n",
       "  <tbody>\n",
       "    <tr>\n",
       "      <th>0</th>\n",
       "      <td>ride_distance</td>\n",
       "      <td>1.375970</td>\n",
       "    </tr>\n",
       "    <tr>\n",
       "      <th>2</th>\n",
       "      <td>ride_prime_time</td>\n",
       "      <td>0.724422</td>\n",
       "    </tr>\n",
       "    <tr>\n",
       "      <th>1</th>\n",
       "      <td>ride_duration</td>\n",
       "      <td>0.531051</td>\n",
       "    </tr>\n",
       "    <tr>\n",
       "      <th>4</th>\n",
       "      <td>driver_onboard_date</td>\n",
       "      <td>0.001086</td>\n",
       "    </tr>\n",
       "    <tr>\n",
       "      <th>3</th>\n",
       "      <td>leave_month</td>\n",
       "      <td>-0.001263</td>\n",
       "    </tr>\n",
       "  </tbody>\n",
       "</table>\n",
       "</div>"
      ],
      "text/plain": [
       "             variables  importance\n",
       "0        ride_distance    1.375970\n",
       "2      ride_prime_time    0.724422\n",
       "1        ride_duration    0.531051\n",
       "4  driver_onboard_date    0.001086\n",
       "3          leave_month   -0.001263"
      ]
     },
     "execution_count": 44,
     "metadata": {},
     "output_type": "execute_result"
    }
   ],
   "source": [
    "result = pd.DataFrame({'variables':x_ltv.columns, 'importance':importance})\n",
    "result.sort_values('importance', ascending=False, inplace=True)\n",
    "result"
   ]
  },
  {
   "cell_type": "code",
   "execution_count": null,
   "id": "cb08c0f7",
   "metadata": {},
   "outputs": [],
   "source": []
  },
  {
   "cell_type": "markdown",
   "id": "88c92d0f",
   "metadata": {},
   "source": [
    "## model for churn rate"
   ]
  },
  {
   "cell_type": "code",
   "execution_count": 45,
   "id": "b83d3896",
   "metadata": {},
   "outputs": [],
   "source": [
    "# try feature scaling\n",
    "sc = StandardScaler()\n",
    "x_train = sc.fit_transform(x_train)\n",
    "x_test = sc.fit_transform(x_test)"
   ]
  },
  {
   "cell_type": "code",
   "execution_count": 46,
   "id": "1e807293",
   "metadata": {},
   "outputs": [],
   "source": [
    "#To store results of models, we create two dictionaries\n",
    "result_dict_train = {}\n",
    "result_dict_test = {}"
   ]
  },
  {
   "cell_type": "code",
   "execution_count": 47,
   "id": "63be16f6",
   "metadata": {},
   "outputs": [
    {
     "name": "stdout",
     "output_type": "stream",
     "text": [
      "Train Score: 0.9992183518867238\n",
      "Test Score: 0.9990439523526524\n"
     ]
    }
   ],
   "source": [
    "# logistic regression\n",
    "reg = LogisticRegression(random_state = 42, multi_class='ovr') # muti_class is for softmax when it's not a binary outcome\n",
    "accuracies = cross_val_score(reg, x_train, y_train, cv=5)\n",
    "reg.fit(x_train,y_train)\n",
    "y_pred = reg.predict(x_test)\n",
    "\n",
    "#Obtain accuracy\n",
    "print(\"Train Score:\",np.mean(accuracies))\n",
    "print(\"Test Score:\",reg.score(x_test,y_test))"
   ]
  },
  {
   "cell_type": "code",
   "execution_count": 50,
   "id": "a26d2f33",
   "metadata": {},
   "outputs": [
    {
     "data": {
      "text/plain": [
       "<Axes: ylabel='Feature'>"
      ]
     },
     "execution_count": 50,
     "metadata": {},
     "output_type": "execute_result"
    },
    {
     "data": {
      "image/png": "[encoded data removed]",
      "text/plain": [
       "<Figure size 720x432 with 1 Axes>"
      ]
     },
     "metadata": {
      "needs_background": "light"
     },
     "output_type": "display_data"
    }
   ],
   "source": [
    "# use coefficience to find out the feature importance of each variable\n",
    "coef = reg.coef_\n",
    "avg_importance = np.mean(np.abs(coef), axis=0)\n",
    "feature_importance = pd.DataFrame({'Feature': x.columns, 'Importance': avg_importance})\n",
    "feature_importance = feature_importance.sort_values('Importance', ascending=False)\n",
    "feature_importance.plot(x='Feature', y='Importance', kind='barh', figsize=(10, 6))"
   ]
  },
  {
   "cell_type": "code",
   "execution_count": 51,
   "id": "8478d7f9",
   "metadata": {},
   "outputs": [
    {
     "data": {
      "text/html": [
       "<div>\n",
       "<style scoped>\n",
       "    .dataframe tbody tr th:only-of-type {\n",
       "        vertical-align: middle;\n",
       "    }\n",
       "\n",
       "    .dataframe tbody tr th {\n",
       "        vertical-align: top;\n",
       "    }\n",
       "\n",
       "    .dataframe thead th {\n",
       "        text-align: right;\n",
       "    }\n",
       "</style>\n",
       "<table border=\"1\" class=\"dataframe\">\n",
       "  <thead>\n",
       "    <tr style=\"text-align: right;\">\n",
       "      <th></th>\n",
       "      <th>Feature</th>\n",
       "      <th>Importance</th>\n",
       "    </tr>\n",
       "  </thead>\n",
       "  <tbody>\n",
       "    <tr>\n",
       "      <th>4</th>\n",
       "      <td>driver_onboard_date</td>\n",
       "      <td>2.483562</td>\n",
       "    </tr>\n",
       "    <tr>\n",
       "      <th>3</th>\n",
       "      <td>total</td>\n",
       "      <td>1.652009</td>\n",
       "    </tr>\n",
       "    <tr>\n",
       "      <th>1</th>\n",
       "      <td>ride_duration</td>\n",
       "      <td>0.196525</td>\n",
       "    </tr>\n",
       "    <tr>\n",
       "      <th>0</th>\n",
       "      <td>ride_distance</td>\n",
       "      <td>0.189171</td>\n",
       "    </tr>\n",
       "    <tr>\n",
       "      <th>2</th>\n",
       "      <td>ride_prime_time</td>\n",
       "      <td>0.064928</td>\n",
       "    </tr>\n",
       "  </tbody>\n",
       "</table>\n",
       "</div>"
      ],
      "text/plain": [
       "               Feature  Importance\n",
       "4  driver_onboard_date    2.483562\n",
       "3                total    1.652009\n",
       "1        ride_duration    0.196525\n",
       "0        ride_distance    0.189171\n",
       "2      ride_prime_time    0.064928"
      ]
     },
     "execution_count": 51,
     "metadata": {},
     "output_type": "execute_result"
    }
   ],
   "source": [
    "feature_importance"
   ]
  },
  {
   "cell_type": "code",
   "execution_count": 17,
   "id": "4846f599",
   "metadata": {},
   "outputs": [
    {
     "data": {
      "text/plain": [
       "Text(0.5, 1.0, 'Permutation Importance with Standard Deviation')"
      ]
     },
     "execution_count": 17,
     "metadata": {},
     "output_type": "execute_result"
    },
    {
     "data": {
      "image/png": "[encoded data removed]",
      "text/plain": [
       "<Figure size 720x432 with 1 Axes>"
      ]
     },
     "metadata": {
      "needs_background": "light"
     },
     "output_type": "display_data"
    }
   ],
   "source": [
    "# use permutation importance to find out the feature importance of each variable\n",
    "result = permutation_importance(reg, x_test, y_test, n_repeats=10, random_state=42)\n",
    "feature_importance = pd.DataFrame({'Feature': x.columns,\n",
    "                                   'Importance': result.importances_mean,\n",
    "                                   'Standard Deviation': result.importances_std})\n",
    "feature_importance = feature_importance.sort_values('Importance', ascending=True)\n",
    "\n",
    "ax = feature_importance.plot(x='Feature', y='Importance', kind='barh', figsize=(10, 6), yerr='Standard Deviation', capsize=4)\n",
    "ax.set_xlabel('Permutation Importance')\n",
    "ax.set_title('Permutation Importance with Standard Deviation')"
   ]
  },
  {
   "cell_type": "code",
   "execution_count": 18,
   "id": "589ff129",
   "metadata": {},
   "outputs": [
    {
     "data": {
      "text/html": [
       "<div>\n",
       "<style scoped>\n",
       "    .dataframe tbody tr th:only-of-type {\n",
       "        vertical-align: middle;\n",
       "    }\n",
       "\n",
       "    .dataframe tbody tr th {\n",
       "        vertical-align: top;\n",
       "    }\n",
       "\n",
       "    .dataframe thead th {\n",
       "        text-align: right;\n",
       "    }\n",
       "</style>\n",
       "<table border=\"1\" class=\"dataframe\">\n",
       "  <thead>\n",
       "    <tr style=\"text-align: right;\">\n",
       "      <th></th>\n",
       "      <th>Feature</th>\n",
       "      <th>Importance</th>\n",
       "      <th>Standard Deviation</th>\n",
       "    </tr>\n",
       "  </thead>\n",
       "  <tbody>\n",
       "    <tr>\n",
       "      <th>2</th>\n",
       "      <td>ride_prime_time</td>\n",
       "      <td>0.000000</td>\n",
       "      <td>0.000000</td>\n",
       "    </tr>\n",
       "    <tr>\n",
       "      <th>4</th>\n",
       "      <td>driver_onboard_date</td>\n",
       "      <td>0.000000</td>\n",
       "      <td>0.000000</td>\n",
       "    </tr>\n",
       "    <tr>\n",
       "      <th>0</th>\n",
       "      <td>ride_distance</td>\n",
       "      <td>0.000026</td>\n",
       "      <td>0.000000</td>\n",
       "    </tr>\n",
       "    <tr>\n",
       "      <th>1</th>\n",
       "      <td>ride_duration</td>\n",
       "      <td>0.000036</td>\n",
       "      <td>0.000013</td>\n",
       "    </tr>\n",
       "    <tr>\n",
       "      <th>3</th>\n",
       "      <td>total</td>\n",
       "      <td>0.000039</td>\n",
       "      <td>0.000021</td>\n",
       "    </tr>\n",
       "  </tbody>\n",
       "</table>\n",
       "</div>"
      ],
      "text/plain": [
       "               Feature  Importance  Standard Deviation\n",
       "2      ride_prime_time    0.000000            0.000000\n",
       "4  driver_onboard_date    0.000000            0.000000\n",
       "0        ride_distance    0.000026            0.000000\n",
       "1        ride_duration    0.000036            0.000013\n",
       "3                total    0.000039            0.000021"
      ]
     },
     "execution_count": 18,
     "metadata": {},
     "output_type": "execute_result"
    }
   ],
   "source": [
    "feature_importance"
   ]
  },
  {
   "cell_type": "code",
   "execution_count": null,
   "id": "9ae627dd",
   "metadata": {},
   "outputs": [],
   "source": []
  },
  {
   "cell_type": "code",
   "execution_count": 10,
   "id": "76f5654d",
   "metadata": {},
   "outputs": [],
   "source": [
    "#Store results in the dictionaries\n",
    "result_dict_train[\"Logistic Train Score\"] = np.mean(accuracies)\n",
    "result_dict_test[\"Logistic Test Score\"] = reg.score(x_test,y_test)"
   ]
  },
  {
   "cell_type": "code",
   "execution_count": 11,
   "id": "93aa1464",
   "metadata": {},
   "outputs": [
    {
     "name": "stdout",
     "output_type": "stream",
     "text": [
      "Train Score: 0.989689989873899\n",
      "Test Score: 0.9896385106328002\n"
     ]
    }
   ],
   "source": [
    "knn = KNeighborsClassifier()\n",
    "accuracies = cross_val_score(knn, x_train, y_train, cv=5)\n",
    "knn.fit(x_train,y_train)\n",
    "y_pred = knn.predict(x_test)\n",
    "\n",
    "#Obtain accuracy\n",
    "print(\"Train Score:\",np.mean(accuracies))\n",
    "print(\"Test Score:\",knn.score(x_test,y_test))"
   ]
  },
  {
   "cell_type": "code",
   "execution_count": 12,
   "id": "c9136eaf",
   "metadata": {},
   "outputs": [],
   "source": [
    "#Store results in the dictionaries\n",
    "result_dict_train[\"KNN Train Score\"] = np.mean(accuracies)\n",
    "result_dict_test[\"KNN Test Score\"] = knn.score(x_test,y_test)"
   ]
  },
  {
   "cell_type": "code",
   "execution_count": 13,
   "id": "d2ad5765",
   "metadata": {},
   "outputs": [
    {
     "name": "stdout",
     "output_type": "stream",
     "text": [
      "Train Score: 0.9901874019314896\n",
      "Test Score: 0.990129454019276\n",
      "time taken: 1.03min\n"
     ]
    }
   ],
   "source": [
    "# this takes too long\n",
    "# Support vector classifier\n",
    "tic = time.time()\n",
    "svc = SVC(random_state=42)\n",
    "accuracies = cross_val_score(svc, x_train, y_train, cv=2)\n",
    "svc.fit(x_train,y_train)\n",
    "y_pred = svc.predict(x_test)\n",
    " \n",
    "#Obtain accuracy\n",
    "print(\"Train Score:\",np.mean(accuracies))\n",
    "print(\"Test Score:\",svc.score(x_test,y_test))\n",
    "toc = time.time()\n",
    "print(\"time taken: {0:.2f}min\".format((toc - tic)/60))\n",
    "\n",
    "## result\n",
    "# Train Score: 0.9901874019314896\n",
    "# Test Score: 0.990129454019276\n",
    "# time taken: 1.04min"
   ]
  },
  {
   "cell_type": "code",
   "execution_count": 14,
   "id": "0d5f9810",
   "metadata": {},
   "outputs": [],
   "source": [
    "# Store results in the dictionaries\n",
    "result_dict_train[\"SVM Train Score\"] = np.mean(accuracies)\n",
    "result_dict_test[\"SVM Test Score\"] = svc.score(x_test,y_test)"
   ]
  },
  {
   "cell_type": "code",
   "execution_count": 15,
   "id": "e473f475",
   "metadata": {},
   "outputs": [
    {
     "name": "stdout",
     "output_type": "stream",
     "text": [
      "Train Score: 0.9811499920254765\n",
      "Test Score: 0.9809048861786517\n"
     ]
    }
   ],
   "source": [
    "# Decision tree classifier\n",
    "dtc = DecisionTreeClassifier(random_state = 42)\n",
    "accuracies = cross_val_score(dtc, x_train, y_train, cv=5)\n",
    "dtc.fit(x_train,y_train)\n",
    "y_pred = dtc.predict(x_test)\n",
    "\n",
    "#Obtain accuracy\n",
    "print(\"Train Score:\",np.mean(accuracies))\n",
    "print(\"Test Score:\",dtc.score(x_test,y_test))"
   ]
  },
  {
   "cell_type": "code",
   "execution_count": 16,
   "id": "f069aa85",
   "metadata": {},
   "outputs": [],
   "source": [
    "#Store results in the dictionaries\n",
    "result_dict_train[\"Decision Tree Train Score\"] = np.mean(accuracies)\n",
    "result_dict_test[\"Decision Tree Test Score\"] = dtc.score(x_test,y_test)"
   ]
  },
  {
   "cell_type": "code",
   "execution_count": 19,
   "id": "af122999",
   "metadata": {},
   "outputs": [
    {
     "name": "stdout",
     "output_type": "stream",
     "text": [
      "Train Score: 0.9895672516904028\n",
      "Test Score: 0.9897935453864242\n"
     ]
    }
   ],
   "source": [
    "rfc = RandomForestClassifier(random_state = 42)\n",
    "accuracies = cross_val_score(rfc, x_train, y_train, cv=5)\n",
    "rfc.fit(x_train,y_train)\n",
    "y_pred = rfc.predict(x_test)\n",
    "#Obtain accuracy\n",
    "print(\"Train Score:\",np.mean(accuracies))\n",
    "print(\"Test Score:\",rfc.score(x_test,y_test))"
   ]
  },
  {
   "cell_type": "code",
   "execution_count": 21,
   "id": "93d624e0",
   "metadata": {},
   "outputs": [],
   "source": [
    "#Store results in the dictionaries\n",
    "result_dict_train[\"Random Forest Train Score\"] = np.mean(accuracies)\n",
    "result_dict_test[\"Random Forest Test Score\"] = rfc.score(x_test,y_test)"
   ]
  },
  {
   "cell_type": "code",
   "execution_count": 22,
   "id": "acb45b06",
   "metadata": {},
   "outputs": [
    {
     "name": "stdout",
     "output_type": "stream",
     "text": [
      "Train Score: 0.9901809419819398\n",
      "Test Score: 0.990129454019276\n"
     ]
    }
   ],
   "source": [
    "gnb = GaussianNB()\n",
    "accuracies = cross_val_score(gnb, x_train, y_train, cv=5)\n",
    "gnb.fit(x_train,y_train)\n",
    "y_pred = gnb.predict(x_test)\n",
    "\n",
    "#Obtain accuracy\n",
    "print(\"Train Score:\",np.mean(accuracies))\n",
    "print(\"Test Score:\",gnb.score(x_test,y_test))"
   ]
  },
  {
   "cell_type": "code",
   "execution_count": 24,
   "id": "7a4c7cf3",
   "metadata": {},
   "outputs": [],
   "source": [
    "#Store results in the dictionaries\n",
    "result_dict_train[\"Gaussian NB Train Score\"] = np.mean(accuracies)\n",
    "result_dict_test[\"Gaussian NB Test Score\"] = gnb.score(x_test,y_test)"
   ]
  },
  {
   "cell_type": "code",
   "execution_count": 25,
   "id": "ed839e0f",
   "metadata": {},
   "outputs": [
    {
     "data": {
      "text/html": [
       "<div>\n",
       "<style scoped>\n",
       "    .dataframe tbody tr th:only-of-type {\n",
       "        vertical-align: middle;\n",
       "    }\n",
       "\n",
       "    .dataframe tbody tr th {\n",
       "        vertical-align: top;\n",
       "    }\n",
       "\n",
       "    .dataframe thead th {\n",
       "        text-align: right;\n",
       "    }\n",
       "</style>\n",
       "<table border=\"1\" class=\"dataframe\">\n",
       "  <thead>\n",
       "    <tr style=\"text-align: right;\">\n",
       "      <th></th>\n",
       "      <th>Score</th>\n",
       "    </tr>\n",
       "  </thead>\n",
       "  <tbody>\n",
       "    <tr>\n",
       "      <th>Logistic Train Score</th>\n",
       "      <td>0.990181</td>\n",
       "    </tr>\n",
       "    <tr>\n",
       "      <th>KNN Train Score</th>\n",
       "      <td>0.989690</td>\n",
       "    </tr>\n",
       "    <tr>\n",
       "      <th>SVM Train Score</th>\n",
       "      <td>0.990187</td>\n",
       "    </tr>\n",
       "    <tr>\n",
       "      <th>Decision Tree Train Score</th>\n",
       "      <td>0.981150</td>\n",
       "    </tr>\n",
       "    <tr>\n",
       "      <th>Random Forest Train Score</th>\n",
       "      <td>0.989567</td>\n",
       "    </tr>\n",
       "    <tr>\n",
       "      <th>Gaussian NB Train Score</th>\n",
       "      <td>0.990181</td>\n",
       "    </tr>\n",
       "  </tbody>\n",
       "</table>\n",
       "</div>"
      ],
      "text/plain": [
       "                              Score\n",
       "Logistic Train Score       0.990181\n",
       "KNN Train Score            0.989690\n",
       "SVM Train Score            0.990187\n",
       "Decision Tree Train Score  0.981150\n",
       "Random Forest Train Score  0.989567\n",
       "Gaussian NB Train Score    0.990181"
      ]
     },
     "execution_count": 25,
     "metadata": {},
     "output_type": "execute_result"
    }
   ],
   "source": [
    "df_result_train = pd.DataFrame.from_dict(result_dict_train,orient = \"index\", columns=[\"Score\"])\n",
    "df_result_train"
   ]
  },
  {
   "cell_type": "code",
   "execution_count": 26,
   "id": "aad165ab",
   "metadata": {},
   "outputs": [
    {
     "data": {
      "text/html": [
       "<div>\n",
       "<style scoped>\n",
       "    .dataframe tbody tr th:only-of-type {\n",
       "        vertical-align: middle;\n",
       "    }\n",
       "\n",
       "    .dataframe tbody tr th {\n",
       "        vertical-align: top;\n",
       "    }\n",
       "\n",
       "    .dataframe thead th {\n",
       "        text-align: right;\n",
       "    }\n",
       "</style>\n",
       "<table border=\"1\" class=\"dataframe\">\n",
       "  <thead>\n",
       "    <tr style=\"text-align: right;\">\n",
       "      <th></th>\n",
       "      <th>Score</th>\n",
       "    </tr>\n",
       "  </thead>\n",
       "  <tbody>\n",
       "    <tr>\n",
       "      <th>Logistic Test Score</th>\n",
       "      <td>0.990129</td>\n",
       "    </tr>\n",
       "    <tr>\n",
       "      <th>KNN Test Score</th>\n",
       "      <td>0.989639</td>\n",
       "    </tr>\n",
       "    <tr>\n",
       "      <th>SVM Test Score</th>\n",
       "      <td>0.990129</td>\n",
       "    </tr>\n",
       "    <tr>\n",
       "      <th>Decision Tree Test Score</th>\n",
       "      <td>0.980905</td>\n",
       "    </tr>\n",
       "    <tr>\n",
       "      <th>Random Forest Test Score</th>\n",
       "      <td>0.989794</td>\n",
       "    </tr>\n",
       "    <tr>\n",
       "      <th>Gaussian NB Test Score</th>\n",
       "      <td>0.990129</td>\n",
       "    </tr>\n",
       "  </tbody>\n",
       "</table>\n",
       "</div>"
      ],
      "text/plain": [
       "                             Score\n",
       "Logistic Test Score       0.990129\n",
       "KNN Test Score            0.989639\n",
       "SVM Test Score            0.990129\n",
       "Decision Tree Test Score  0.980905\n",
       "Random Forest Test Score  0.989794\n",
       "Gaussian NB Test Score    0.990129"
      ]
     },
     "execution_count": 26,
     "metadata": {},
     "output_type": "execute_result"
    }
   ],
   "source": [
    "df_result_test = pd.DataFrame.from_dict(result_dict_test,orient = \"index\",columns=[\"Score\"])\n",
    "df_result_test"
   ]
  },
  {
   "cell_type": "code",
   "execution_count": 36,
   "id": "0524453b",
   "metadata": {},
   "outputs": [
    {
     "data": {
      "image/png": "[encoded data removed]",
      "text/plain": [
       "<Figure size 1440x360 with 2 Axes>"
      ]
     },
     "metadata": {
      "needs_background": "light"
     },
     "output_type": "display_data"
    }
   ],
   "source": [
    "import seaborn as sns\n",
    "\n",
    "fig,ax = plt.subplots(1,2,figsize=(20,5))\n",
    "sns.barplot(x = df_result_train.index,y = df_result_train.Score,ax = ax[0])\n",
    "sns.barplot(x = df_result_test.index,y = df_result_test.Score,ax = ax[1])\n",
    "ax[0].set_xticklabels(df_result_train.index,rotation = 45)\n",
    "ax[1].set_xticklabels(df_result_test.index,rotation = 45)\n",
    "plt.show()"
   ]
  },
  {
   "cell_type": "code",
   "execution_count": null,
   "id": "b9e56a33",
   "metadata": {},
   "outputs": [],
   "source": []
  }
 ],
 "metadata": {
  "kernelspec": {
   "display_name": "Python 3 (ipykernel)",
   "language": "python",
   "name": "python3"
  },
  "language_info": {
   "codemirror_mode": {
    "name": "ipython",
    "version": 3
   },
   "file_extension": ".py",
   "mimetype": "text/x-python",
   "name": "python",
   "nbconvert_exporter": "python",
   "pygments_lexer": "ipython3",
   "version": "3.9.13"
  }
 },
 "nbformat": 4,
 "nbformat_minor": 5
}
